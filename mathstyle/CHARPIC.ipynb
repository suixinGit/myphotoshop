{
 "cells": [
  {
   "cell_type": "code",
   "execution_count": 1,
   "metadata": {},
   "outputs": [],
   "source": [
    "from PIL import Image # 图像处理模块\n",
    "from urllib import request #网络请求模块"
   ]
  },
  {
   "cell_type": "code",
   "execution_count": 15,
   "metadata": {},
   "outputs": [],
   "source": [
    "#ASCII_CHARS = [' ', '.', '-', '+', '*', 'I', 'N', 'M', '0', '8', '@']\n",
    "ASCII_CHARS = ['@', '8', '0', 'M', 'N', 'I', '*', '+', '-', '.', ' ']"
   ]
  },
  {
   "cell_type": "code",
   "execution_count": 16,
   "metadata": {},
   "outputs": [],
   "source": [
    "# 压缩图片\n",
    "def scale_image(image, new_width=60):\n",
    "    (original_width, original_height) = image.size # 获取原图尺寸\n",
    "    aspect_ratio = original_height/float(original_width) * 0.5 # 计算高宽比，因为输出文本有2倍行距，所以乘0.5维持高宽比\n",
    "    new_height = int(aspect_ratio * new_width)\n",
    "    new_image = image.resize((new_width, new_height))\n",
    "    return new_image"
   ]
  },
  {
   "cell_type": "code",
   "execution_count": 17,
   "metadata": {},
   "outputs": [],
   "source": [
    "# 灰度模式\n",
    "def convert_to_grayscale(image):\n",
    "    return image.convert('L') # 调用image对象自己的.convert()方法"
   ]
  },
  {
   "cell_type": "code",
   "execution_count": 18,
   "metadata": {},
   "outputs": [],
   "source": [
    "def map_pixels_to_ascii_chars(image, range_width=25):\n",
    "\n",
    "    # 将每个像素根据其灰度值映射为一个字符，每个字符对应25个灰度值\n",
    "    pixels_in_image = list(image.getdata()) # 获取原图灰度值列表   \n",
    "    pixels_to_chars = [ASCII_CHARS[int(pixel_value/range_width)] for pixel_value in pixels_in_image]\n",
    "    # 对于每个像素点，将其灰度值转换为列表ASCII_CHARS的索引\n",
    "    return \"\".join(pixels_to_chars)"
   ]
  },
  {
   "cell_type": "code",
   "execution_count": 19,
   "metadata": {},
   "outputs": [],
   "source": [
    "def convert_image_to_ascii(image, new_width=60):\n",
    "    image = scale_image(image, new_width) # 调用scale_image()函数，压缩图片\n",
    "    image = convert_to_grayscale(image) # convert_to_grayscale()函数，转换为灰度图\n",
    "\n",
    "    pixels_to_chars = map_pixels_to_ascii_chars(image) # 映射至字符集\n",
    "    len_pixels_to_chars = len(pixels_to_chars) # 获取字符集长度\n",
    "\n",
    "    image_ascii = [pixels_to_chars[index: index + new_width] for index in range(0, len_pixels_to_chars, new_width)]\n",
    "\n",
    "    return \"\\n\".join(image_ascii)\n",
    "\n",
    "\n",
    "def handle_image_conversion(image_filepath, new_width=60):\n",
    "    image = Image.open(image_filepath) # Image.open()打开源图片\n",
    "    image_ascii = convert_image_to_ascii(image, new_width) # 调用上面的convert_image_to_ascii()函数\n",
    "    print(image_ascii) # 输出字符画"
   ]
  },
  {
   "cell_type": "code",
   "execution_count": 20,
   "metadata": {},
   "outputs": [
    {
     "name": "stdout",
     "output_type": "stream",
     "text": [
      "                   -+I++------........---++-+*NN            \n",
      "                   -*-++---............---++**NN*           \n",
      "                    --+++--.............---+++*NI           \n",
      "                    +------...........-*I+-*N++*M-N         \n",
      "                    -------........-**++**III*+++I+         \n",
      "                   -I+.*--+****+-.-+**IMIMN8*+++++-         \n",
      "                   .-+.+N0800-**+-.--.-+II*---+*+-+         \n",
      "                    +*.-+*M0*+----.--........-+*++          \n",
      "                      +---......-+.---.....--+*+.           \n",
      "                       *++-.....--..+--....-+*I+            \n",
      "                        .++--...-NI*+-....--+**+            \n",
      "                          +++-----.--+------+*+M            \n",
      "                           ++++-IN0MN+-++-++**0I            \n",
      "                             +++++IIII*+-++*M80I+           \n",
      "                               -++---+--+*0800I*+-          \n",
      "                               .I+NNIM000000MN+----         \n",
      "                                *NNNMM008---+---..---       \n",
      "                                 NNMN---------+---...-.     \n",
      "                                 .N----......--+++++-....   \n",
      "                               ++----.......---++++++++-..  \n",
      "                             -++----.........---++++++***+-.\n",
      "INIIINIIIIIIIIIIII          .+-.-+---.......----++++++*****-\n"
     ]
    }
   ],
   "source": [
    "if __name__ == '__main__':\n",
    "    image_file_path = 'test5.jpg'\n",
    "    handle_image_conversion(image_file_path) # 启动handle_image_conversion()这个总函数"
   ]
  },
  {
   "cell_type": "code",
   "execution_count": null,
   "metadata": {},
   "outputs": [],
   "source": []
  }
 ],
 "metadata": {
  "kernelspec": {
   "display_name": "Python 3",
   "language": "python",
   "name": "python3"
  },
  "language_info": {
   "codemirror_mode": {
    "name": "ipython",
    "version": 3
   },
   "file_extension": ".py",
   "mimetype": "text/x-python",
   "name": "python",
   "nbconvert_exporter": "python",
   "pygments_lexer": "ipython3",
   "version": "3.5.2"
  }
 },
 "nbformat": 4,
 "nbformat_minor": 2
}
