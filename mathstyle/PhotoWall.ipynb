{
 "cells": [
  {
   "cell_type": "code",
   "execution_count": 1,
   "metadata": {},
   "outputs": [],
   "source": [
    "'''将图片像素化'''\n",
    "#输入一幅图片，要求黑底白字\n",
    "#图像放大至短边\n",
    "#矩阵化\n",
    "#填图，纵边同一化\n",
    "#\n",
    "import cv2\n",
    "import numpy as np \n",
    "import os\n",
    "import sys\n",
    "import ssl\n",
    "import urllib.request\n",
    "import json\n",
    "import string\n",
    "#文件选择对话框对话框依赖模块\n",
    "import time\n",
    "import json\n",
    "import random\n",
    "#python生成GUID\n",
    "import uuid\n",
    "import copy\n",
    "import glob as gb"
   ]
  },
  {
   "cell_type": "code",
   "execution_count": 2,
   "metadata": {},
   "outputs": [],
   "source": [
    "def Get_File_list(imgFoldName):\n",
    "    filelist = os.listdir(imgFoldName)\n",
    "    fileNum = len(filelist)\n",
    "    return filelist,fileNum"
   ]
  },
  {
   "cell_type": "code",
   "execution_count": 3,
   "metadata": {},
   "outputs": [],
   "source": [
    "def Get_Image_list(imgFoldName,format_pic):\n",
    "    img_path_list = gb.glob(imgFoldName + '/*.' + format_pic) \n",
    "    imgNum = len(img_path_list)\n",
    "    return img_path_list,imgNum"
   ]
  },
  {
   "cell_type": "code",
   "execution_count": 4,
   "metadata": {},
   "outputs": [],
   "source": [
    "def GetFiledImage(image_height,image_width,image_nchanels,imglist,pix_height):\n",
    "    imagex_start = 0\n",
    "    imagey_start = 0\n",
    "    field_image = np.zeros((image_height,image_width,image_nchanels), np.uint8)\n",
    "    image_num = len(imglist)\n",
    "    isaddable = False\n",
    "    if(image_height > pix_height and image_width > 0):\n",
    "        isaddable = True\n",
    "    while isaddable:\n",
    "        image_index = random.randint(0,(image_num-1))\n",
    "        image_file = imglist[image_index]\n",
    "        image = cv2.imread(image_file)\n",
    "        height_img = img.shape[0]\n",
    "        width_img = img.shape[1]\n",
    "        pix_width = round(width_img*pix_height/height_img)\n",
    "        pix_img = cv2.resize(image,(pix_width,pix_height),interpolation=cv2.INTER_AREA)\n",
    "        if((imagex_start+pix_width)<image_width):\n",
    "            #print(imagex_start,imagey_start)\n",
    "            field_image[imagey_start:(imagey_start+pix_height),imagex_start:(imagex_start+pix_width)] = copy.deepcopy(pix_img)\n",
    "            imagex_start = imagex_start+pix_width\n",
    "        else:\n",
    "            imagex_start = 0\n",
    "            if((imagey_start+2*pix_height)< image_height):\n",
    "                imagey_start = imagey_start+pix_height\n",
    "            else:\n",
    "                #print(isaddable)\n",
    "                isaddable = False\n",
    "    cv2.imwrite('Image.jpg',field_image)\n",
    "    return field_image"
   ]
  },
  {
   "cell_type": "code",
   "execution_count": 5,
   "metadata": {},
   "outputs": [],
   "source": [
    "def ImageMerge(img,img_mask):\n",
    "    height_img_mask = img_mask.shape[0]\n",
    "    width_img_mask = img_mask.shape[1]\n",
    "    for i in range(height_img_mask):\n",
    "        for j in range(width_img_mask):\n",
    "            if(img_mask[i,j] < 100):\n",
    "                #print(i,j)\n",
    "                img[i,j,:] = 0\n",
    "                #print(img)\n",
    "                #img[i,j] = 0 # 这里可以处理每个像素点\n",
    "    cv2.imwrite('result.jpg',img)\n",
    "    "
   ]
  },
  {
   "cell_type": "code",
   "execution_count": 6,
   "metadata": {},
   "outputs": [],
   "source": [
    "if __name__ == '__main__':\n",
    "    imgFoldName = '/home/zhangjie/CarRec/20180706/201807061'\n",
    "    img_format = 'jpg'\n",
    "    pix_height = 49\n",
    "    pix_width = 49\n",
    "    image_height = 1000\n",
    "    image_width = 1000\n",
    "    image_nchanels = 3\n",
    "    pix_height = 12\n",
    "    \n",
    "    img = cv2.imread('/home/zhangjie/CarRec/20180706/201807061/201807060850_85b50e90-80b6-11e8-bbe5-000c297a242a.jpg')\n",
    "    img_gray = cv2.cvtColor(img, cv2.COLOR_BGR2GRAY)   #转换了灰度化\n",
    "    retval, im_at_fixed = cv2.threshold(img_gray, 150, 255, cv2.THRESH_BINARY) \n",
    "    height_mash = im_at_fixed.shape[0]\n",
    "    width_mash = im_at_fixed.shape[1]\n",
    "\n",
    "    #将阈值设置为50，阈值类型为cv2.THRESH_BINARY，则灰度在大于50的像素其值将设置为255，其它像素设置为0\n",
    "    imglist,imgnum = Get_Image_list(imgFoldName,img_format)\n",
    "    field_image = GetFiledImage(height_mash,width_mash,3,imglist,pix_height)\n",
    "    ImageMerge(field_image,im_at_fixed)\n",
    "    "
   ]
  },
  {
   "cell_type": "code",
   "execution_count": null,
   "metadata": {},
   "outputs": [],
   "source": []
  }
 ],
 "metadata": {
  "kernelspec": {
   "display_name": "Python 3",
   "language": "python",
   "name": "python3"
  },
  "language_info": {
   "codemirror_mode": {
    "name": "ipython",
    "version": 3
   },
   "file_extension": ".py",
   "mimetype": "text/x-python",
   "name": "python",
   "nbconvert_exporter": "python",
   "pygments_lexer": "ipython3",
   "version": "3.5.2"
  }
 },
 "nbformat": 4,
 "nbformat_minor": 2
}
