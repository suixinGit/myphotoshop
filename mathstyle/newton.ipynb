{
 "cells": [
  {
   "cell_type": "code",
   "execution_count": null,
   "metadata": {},
   "outputs": [],
   "source": [
    "# -*- coding: utf-8 -*-\n",
    "\"\"\"\n",
    "~~~~~~~~~~~~~~~~~~\n",
    "The Newton Fractal\n",
    "~~~~~~~~~~~~~~~~~~\n",
    "\"\"\"\n",
    "import numpy as np\n",
    "import matplotlib.pyplot as plt\n",
    "from numba import jit\n",
    "\n",
    "\n",
    "# define functions manually, do not use numpy's poly1d funciton!\n",
    "@jit('complex64(complex64)', nopython=True)\n",
    "def f(z):\n",
    "    # z*z*z is faster than z**3\n",
    "    return z*z*z - 1\n",
    "    # return z**5 + 0.25*z*z + 1.17\n",
    "\n",
    "\n",
    "@jit('complex64(complex64)', nopython=True)\n",
    "def df(z):\n",
    "    return 3*z*z\n",
    "    # return 5*z**4 + 0.5*z\n",
    "\n",
    "\n",
    "@jit('float64(complex64)', nopython=True)\n",
    "def iterate(z):\n",
    "    num = 0\n",
    "    while abs(f(z)) > 1e-4:\n",
    "        w = z - f(z)/df(z)\n",
    "        num += np.exp(-1/abs(w-z))\n",
    "        z = w\n",
    "    return num\n",
    "\n",
    "\n",
    "def render(imgsize):\n",
    "    y, x = np.ogrid[1: -1: imgsize*2j, -1: 1: imgsize*2j]\n",
    "    z = x + y * 1j\n",
    "    img = np.frompyfunc(iterate, 1, 1)(z).astype(np.float)\n",
    "    fig = plt.figure(figsize=(imgsize/100.0, imgsize/100.0), dpi=100)\n",
    "    ax = fig.add_axes([0, 0, 1, 1], aspect=1)\n",
    "    ax.axis('off')\n",
    "    ax.imshow(img, cmap='hot')\n",
    "    fig.savefig('newton.png')\n",
    "\n",
    "\n",
    "if __name__ == '__main__':\n",
    "    render(imgsize=4000)"
   ]
  },
  {
   "cell_type": "code",
   "execution_count": null,
   "metadata": {},
   "outputs": [],
   "source": []
  }
 ],
 "metadata": {
  "kernelspec": {
   "display_name": "Python 3",
   "language": "python",
   "name": "python3"
  },
  "language_info": {
   "codemirror_mode": {
    "name": "ipython",
    "version": 3
   },
   "file_extension": ".py",
   "mimetype": "text/x-python",
   "name": "python",
   "nbconvert_exporter": "python",
   "pygments_lexer": "ipython3",
   "version": "3.5.2"
  }
 },
 "nbformat": 4,
 "nbformat_minor": 2
}
